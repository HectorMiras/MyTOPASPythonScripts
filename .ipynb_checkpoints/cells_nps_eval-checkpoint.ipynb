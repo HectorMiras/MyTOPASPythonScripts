{
 "cells": [
  {
   "cell_type": "markdown",
   "id": "b6e8bd15-a855-407d-ae05-abf7f85148f7",
   "metadata": {},
   "source": [
    "Analysis of TOPAS-nBio simulations of cells with nanoparticles\n",
    "\n",
    "This notebook analyses the results of the simulations of TOPAS and TOPAS-nbio of cells with nanoparticles irradiated with I125 radiation source."
   ]
  },
  {
   "cell_type": "code",
   "execution_count": 1,
   "id": "c2090126-430e-4cb4-941f-4ba78a7afc67",
   "metadata": {},
   "outputs": [],
   "source": [
    "import sys\n",
    "import os\n",
    "import pathlib\n",
    "import pandas as pd\n",
    "import numpy as np\n",
    "import matplotlib.pyplot as plt\n",
    "import pprint\n",
    "\n",
    "# Import our custom modules\n",
    "from dnadamage_phsp_manager import *\n",
    "import sddparser\n",
    "from chemistry_output_manager import *"
   ]
  },
  {
   "cell_type": "code",
   "execution_count": null,
   "id": "8de86559-f2c9-409b-8c25-89753dee532d",
   "metadata": {},
   "outputs": [],
   "source": [
    "# Multirun processing\n",
    "nruns=100 \n",
    "runs_filebases = [f'/home/radiofisica/hector/mytopassimulations/TOPAS_CellsNPs/work/CellColony-med0-cell0/cell1/run{i+1}/DNADamage' for i in range(nruns)]\n",
    "\n",
    "Cell_results_files = {\n",
    "    'Original_hists': 'DoseToCell_I125Beam.csv',\n",
    "    'DoseToNucl_ph2': 'DoseNucleus_Total.csv',\n",
    "    'DoseToNucl_ph3': 'DoseNucleus_Ph3.csv',\n",
    "    'Ecell': 'EnergyToCell,csv',\n",
    "    'NP_el': 'PhaseSpace_NP',\n",
    "}\n",
    "\n",
    "Cell_results = {\n",
    "    'Original_hists': 0,\n",
    "    'DoseToNucl_ph2': 0,\n",
    "    'DoseToNucl_ph3': 0,\n",
    "    'Ecell': 0,\n",
    "    'NP_el': 0,\n",
    "}\n",
    "\n",
    "\n",
    "\n"
   ]
  }
 ],
 "metadata": {
  "kernelspec": {
   "display_name": "Python (venv)",
   "language": "python",
   "name": "venv"
  },
  "language_info": {
   "codemirror_mode": {
    "name": "ipython",
    "version": 3
   },
   "file_extension": ".py",
   "mimetype": "text/x-python",
   "name": "python",
   "nbconvert_exporter": "python",
   "pygments_lexer": "ipython3",
   "version": "3.10.12"
  }
 },
 "nbformat": 4,
 "nbformat_minor": 5
}
